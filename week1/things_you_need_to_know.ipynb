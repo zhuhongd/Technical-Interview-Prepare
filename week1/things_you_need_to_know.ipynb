{
 "cells": [
  {
   "cell_type": "markdown",
   "id": "a802a799",
   "metadata": {},
   "source": [
    "[Knowledge 1.] \n",
    "\n",
    "set ()\n",
    "\n",
    "set() is bascially just dictionary without value.\n",
    "\n",
    "a = set()\n",
    "\n",
    "it is the same as saying, a = {}, but we won't have a ={\"b\": 1, \"c\":2}, rather it would just be a = {\"b\", \"c\"}\n",
    "\n",
    "See some examples:"
   ]
  },
  {
   "cell_type": "markdown",
   "id": "0800bb45",
   "metadata": {},
   "source": [
    "| Operation      | Time Complexity  | Notes                               |\n",
    "| -------------- | ---------------- | ----------------------------------- |\n",
    "| `x in s`       | **O(1)** average | Membership test                     |\n",
    "| `s.add(x)`     | **O(1)** average | Adds `x` to set                     |\n",
    "| `s.remove(x)`  | **O(1)** average | Raises `KeyError` if not found      |\n",
    "| `s.discard(x)` | **O(1)** average | Safe remove (no error if not found) |\n",
    "| `s.pop()`      | **O(1)** average | Removes an arbitrary element        |\n",
    "| `s.clear()`    | **O(1)**         | Empties the set                     |\n"
   ]
  },
  {
   "cell_type": "code",
   "execution_count": null,
   "id": "904e1453",
   "metadata": {},
   "outputs": [
    {
     "name": "stdout",
     "output_type": "stream",
     "text": [
      "{1, 2, 3}\n"
     ]
    }
   ],
   "source": [
    "# 1. s.add(x) — Add Element\n",
    "\n",
    "s = {1, 2}\n",
    "s.add(3)\n",
    "print(s)    # {1, 2, 3}"
   ]
  },
  {
   "cell_type": "code",
   "execution_count": null,
   "id": "19a21396",
   "metadata": {},
   "outputs": [
    {
     "name": "stdout",
     "output_type": "stream",
     "text": [
      "True\n",
      "False\n"
     ]
    }
   ],
   "source": [
    "# 2. x in s — Membership Test\n",
    "\n",
    "s = {1, 2, 3}\n",
    "print(2 in s)    # True\n",
    "print(4 in s)    # False"
   ]
  },
  {
   "cell_type": "code",
   "execution_count": 12,
   "id": "3a1b607c",
   "metadata": {},
   "outputs": [
    {
     "name": "stdout",
     "output_type": "stream",
     "text": [
      "{1, 3}\n"
     ]
    },
    {
     "ename": "KeyError",
     "evalue": "5",
     "output_type": "error",
     "traceback": [
      "\u001b[31m---------------------------------------------------------------------------\u001b[39m",
      "\u001b[31mKeyError\u001b[39m                                  Traceback (most recent call last)",
      "\u001b[36mCell\u001b[39m\u001b[36m \u001b[39m\u001b[32mIn[12]\u001b[39m\u001b[32m, line 8\u001b[39m\n\u001b[32m      5\u001b[39m \u001b[38;5;28mprint\u001b[39m(s)    \u001b[38;5;66;03m# {1, 3}\u001b[39;00m\n\u001b[32m      7\u001b[39m \u001b[38;5;66;03m# If you try to remove a non-existent item:\u001b[39;00m\n\u001b[32m----> \u001b[39m\u001b[32m8\u001b[39m \u001b[43ms\u001b[49m\u001b[43m.\u001b[49m\u001b[43mremove\u001b[49m\u001b[43m(\u001b[49m\u001b[32;43m5\u001b[39;49m\u001b[43m)\u001b[49m  \u001b[38;5;66;03m# Raises KeyError\u001b[39;00m\n",
      "\u001b[31mKeyError\u001b[39m: 5"
     ]
    }
   ],
   "source": [
    "# 3. s.remove(x) — Remove Element (raises error if not found)\n",
    "\n",
    "s = {1, 2, 3}\n",
    "s.remove(2)\n",
    "print(s)    # {1, 3}\n",
    "\n",
    "# If you try to remove a non-existent item:\n",
    "s.remove(5)  # Raises KeyError"
   ]
  },
  {
   "cell_type": "code",
   "execution_count": 15,
   "id": "2ad1249e",
   "metadata": {},
   "outputs": [
    {
     "name": "stdout",
     "output_type": "stream",
     "text": [
      "{1, 3}\n",
      "{3}\n"
     ]
    }
   ],
   "source": [
    "# 4. s.discard(x) — Safe Remove (no error if not found)\n",
    "\n",
    "s = {1, 2, 3}\n",
    "s.discard(2)\n",
    "s.discard(5)  # Does nothing\n",
    "print(s)    # {1, 3}\n",
    "s.discard(1)\n",
    "print(s) "
   ]
  },
  {
   "cell_type": "code",
   "execution_count": null,
   "id": "9cbd993a",
   "metadata": {},
   "outputs": [],
   "source": [
    "# 5. s.pop() — Remove & Return Arbitrary Element\n",
    "\n",
    "s = {10, 20, 30}\n",
    "x = s.pop()\n",
    "print(x)    # Could be 10, 20, or 30 (arbitrary)\n",
    "print(s)    # Remaining set"
   ]
  },
  {
   "cell_type": "code",
   "execution_count": 16,
   "id": "4089072c",
   "metadata": {},
   "outputs": [
    {
     "name": "stdout",
     "output_type": "stream",
     "text": [
      "set()\n"
     ]
    }
   ],
   "source": [
    "# 6. s.clear() — Remove All Elements\n",
    "\n",
    "s = {1, 2, 3}\n",
    "s.clear()\n",
    "print(s)    # set()"
   ]
  },
  {
   "cell_type": "markdown",
   "id": "aaf730dc",
   "metadata": {},
   "source": [
    "[Knowledge 2.] \n",
    "\n",
    "Dictionary .get() Usage in Python\n",
    "\n",
    "Instead of writing:\n",
    "\n",
    "if char not in a:\n",
    "    a[char] = 1\n",
    "else:\n",
    "    a[char] += 1\n",
    "\n",
    "You can simplify it using the .get() method:\n",
    "\n",
    "a[char] = a.get(char, 0) + 1\n",
    "\n",
    "This makes the code more concise and Pythonic."
   ]
  },
  {
   "cell_type": "code",
   "execution_count": 17,
   "id": "06956829",
   "metadata": {},
   "outputs": [
    {
     "name": "stdout",
     "output_type": "stream",
     "text": [
      "{'b': 1, 'a': 3, 'n': 2}\n"
     ]
    }
   ],
   "source": [
    "s = \"banana\"\n",
    "freq = {}\n",
    "\n",
    "for char in s:\n",
    "    freq[char] = freq.get(char, 0) + 1\n",
    "\n",
    "print(freq)\n",
    "# Output: {'b': 1, 'a': 3, 'n': 2}\n"
   ]
  },
  {
   "cell_type": "markdown",
   "id": "b2a1485b",
   "metadata": {},
   "source": [
    "[Knowledge 3.]\n",
    "\n",
    "sorted()\n",
    "\n",
    "if a = \"acb\"\n",
    "sorted(a) will = ['a', 'b', 'c']"
   ]
  },
  {
   "cell_type": "markdown",
   "id": "28f73e74",
   "metadata": {},
   "source": [
    "[Knowledge 4.]\n",
    "\n",
    "defaultdict is a subclass of Python's built-in dict (dictionary), found in the collections module. It lets you specify a default value type for new keys.\n",
    "\n",
    "Why use it?\n",
    "\n",
    "✅ Saves you from writing boilerplate if key not in dict\n",
    "\n",
    "✅ Makes code cleaner, especially when building grouped data (e.g., anagram problems, frequency counters, adjacency lists)\n",
    "\n",
    "syntax:\n",
    "\n",
    "from collections import defaultdict\n",
    "\n",
    "d = defaultdict(list)"
   ]
  },
  {
   "cell_type": "markdown",
   "id": "7230d83a",
   "metadata": {},
   "source": []
  },
  {
   "cell_type": "code",
   "execution_count": null,
   "id": "a53a7538",
   "metadata": {},
   "outputs": [],
   "source": [
    "# Without defaultdict (traditional approach):\n",
    "for word in [\"bat\", \"tab\", \"tap\", \"pat\"]:\n",
    "    key = ''.join(sorted(word))  # sort characters to group anagrams\n",
    "\n",
    "    if key not in grouped:\n",
    "        grouped[key] = []\n",
    "    \n",
    "    grouped[key].append(word)"
   ]
  },
  {
   "cell_type": "code",
   "execution_count": null,
   "id": "6cea7dce",
   "metadata": {},
   "outputs": [],
   "source": [
    "#  With defaultdict(list) (cleaner)\n",
    "from collections import defaultdict\n",
    "\n",
    "grouped = defaultdict(list)\n",
    "\n",
    "for word in [\"bat\", \"tab\", \"tap\", \"pat\"]:\n",
    "    key = ''.join(sorted(word))  # group by sorted letters\n",
    "    grouped[key].append(word)\n",
    "\n",
    "print(grouped)\n",
    "# Output: {'abt': ['bat', 'tab'], 'apt': ['tap', 'pat']}\n"
   ]
  }
 ],
 "metadata": {
  "kernelspec": {
   "display_name": "Python 3",
   "language": "python",
   "name": "python3"
  },
  "language_info": {
   "codemirror_mode": {
    "name": "ipython",
    "version": 3
   },
   "file_extension": ".py",
   "mimetype": "text/x-python",
   "name": "python",
   "nbconvert_exporter": "python",
   "pygments_lexer": "ipython3",
   "version": "3.12.1"
  }
 },
 "nbformat": 4,
 "nbformat_minor": 5
}
