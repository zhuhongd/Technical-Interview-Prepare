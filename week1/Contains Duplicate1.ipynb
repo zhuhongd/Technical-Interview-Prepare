{
 "cells": [
  {
   "cell_type": "markdown",
   "id": "62273be8",
   "metadata": {},
   "source": [
    "\"\"\"Contains Duplicate\n",
    "\n",
    "Given an integer array nums, return true if any value appears more than once in the array, otherwise return false.\n",
    "\n",
    "Example 1:\n",
    "\n",
    "Input: nums = [1, 2, 3, 3]\n",
    "\n",
    "Output: true\n",
    "\n",
    "Example 2:\n",
    "\n",
    "Input: nums = [1, 2, 3, 4]\n",
    "\n",
    "Output: false\"\"\""
   ]
  },
  {
   "cell_type": "markdown",
   "id": "7ecf1ffa",
   "metadata": {},
   "source": [
    "A naive brutal force way of solving this problem will be having two loops at the same time, and if they are not in the same index, but they have same value, then we will know there is duplicate:"
   ]
  },
  {
   "cell_type": "code",
   "execution_count": 11,
   "id": "1a9dba2d",
   "metadata": {},
   "outputs": [
    {
     "data": {
      "text/plain": [
       "True"
      ]
     },
     "execution_count": 11,
     "metadata": {},
     "output_type": "execute_result"
    }
   ],
   "source": [
    "from typing import List\n",
    "def hasDuplicate(nums: List[int]) -> bool:\n",
    "    for i in range(len(nums)):\n",
    "        for j in range(len(nums)):\n",
    "            if i != j and nums[i] == nums[j]:\n",
    "                return True\n",
    "    return False\n",
    "\n",
    "numbers = [1, 2, 5, 7, 2]\n",
    "hasDuplicate(numbers)"
   ]
  },
  {
   "cell_type": "markdown",
   "id": "8d970bf2",
   "metadata": {},
   "source": [
    "Okay, so this would work, but it would takes a really LONG TIME, because each element will need to manually compare with the entire list again and again\n",
    "\n",
    "A quicker way is to use something called HashSet [Knowledge 1.]"
   ]
  },
  {
   "cell_type": "code",
   "execution_count": 17,
   "id": "8c427e90",
   "metadata": {},
   "outputs": [
    {
     "name": "stdout",
     "output_type": "stream",
     "text": [
      "True\n"
     ]
    }
   ],
   "source": [
    "class Solution:\n",
    "    def hasDuplicate(self, nums: List[int]) -> bool:\n",
    "        hash_set = set()\n",
    "        for num in nums:\n",
    "            if num in hash_set:\n",
    "                return True\n",
    "            hash_set.add(num)\n",
    "        return False\n",
    "    \n",
    "    a = [2, 3, 5, 6, 5]\n",
    "    sol = Solution()\n",
    "    print(sol.hasDuplicate(a))"
   ]
  }
 ],
 "metadata": {
  "kernelspec": {
   "display_name": "Python 3",
   "language": "python",
   "name": "python3"
  },
  "language_info": {
   "codemirror_mode": {
    "name": "ipython",
    "version": 3
   },
   "file_extension": ".py",
   "mimetype": "text/x-python",
   "name": "python",
   "nbconvert_exporter": "python",
   "pygments_lexer": "ipython3",
   "version": "3.12.1"
  }
 },
 "nbformat": 4,
 "nbformat_minor": 5
}
